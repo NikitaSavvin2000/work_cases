{
 "cells": [
  {
   "cell_type": "code",
   "execution_count": 1,
   "metadata": {
    "collapsed": true
   },
   "outputs": [],
   "source": [
    "import pandas as pd\n",
    "\n",
    "\n",
    "df_vis_sem = pd.read_csv(r'https://docs.google.com/spreadsheets/d/e/2PACX-1vRuKlvnZ01eveM-x0jRkDYKu8mkqQwPhVIb0V1K8PjBoN3zEgi69QR2JB8PLTSLjE7O4VkFOJNFXjZN/pub?gid=1103843369&single=true&output=csv')\n",
    "\n"
   ]
  },
  {
   "cell_type": "code",
   "execution_count": 3,
   "outputs": [
    {
     "data": {
      "text/plain": "Index(['cluster', 'color', 'term', 'word2vec_aggregate_centrality',\n       'word2vec_centrality', 'word2vec_in_cluster_centrality', 'x', 'y',\n       'area', 'label', 'freq', 'rel_freq', 'axis_year', 'aagr',\n       'acceleration', 'acceleration_direction', 'freq_rank', 'aagr_rank',\n       'agg_rank', 'cluster_name', 'x_median_by_area', 'y_median_by_area',\n       'quarter'],\n      dtype='object')"
     },
     "execution_count": 3,
     "metadata": {},
     "output_type": "execute_result"
    }
   ],
   "source": [
    "df_vis_sem.columns"
   ],
   "metadata": {
    "collapsed": false
   }
  },
  {
   "cell_type": "code",
   "execution_count": 4,
   "outputs": [
    {
     "name": "stderr",
     "output_type": "stream",
     "text": [
      "2024-02-20 15:52:54.882 \n",
      "  \u001B[33m\u001B[1mWarning:\u001B[0m to view this Streamlit app on a browser, run it with the following\n",
      "  command:\n",
      "\n",
      "    streamlit run /Users/nikitasavvin/Desktop/Учеба/work_cases/venv/lib/python3.11/site-packages/ipykernel_launcher.py [ARGUMENTS]\n"
     ]
    }
   ],
   "source": [
    "import streamlit as st\n",
    "import pandas as pd\n",
    "import plotly.express as px\n",
    "\n",
    "\n",
    "df = df_vis_sem\n",
    "\n",
    "# Выбор параметров отображения\n",
    "cluster_name_options = df['cluster_name'].unique()\n",
    "selected_cluster_name = st.selectbox('Выберите название кластера:', cluster_name_options)\n",
    "\n",
    "# Фильтрация данных по выбранному кластеру\n",
    "filtered_df = df[df['cluster_name'] == selected_cluster_name]\n",
    "\n",
    "# Построение семантической карты\n",
    "fig = px.scatter(filtered_df, x='x', y='y', color='color', text='label',\n",
    "                 hover_data=['word2vec_centrality', 'freq', 'aagr'])\n",
    "\n",
    "# Настройка внешнего вида\n",
    "fig.update_traces(marker=dict(size=12, opacity=0.8),\n",
    "                  selector=dict(mode='markers'))\n",
    "\n",
    "# Добавление названия кластера\n",
    "fig.update_layout(title=f'Семантическая карта: {selected_cluster_name}',\n",
    "                  xaxis_title='X', yaxis_title='Y')\n",
    "\n",
    "# Отображение семантической карты\n",
    "st.plotly_chart(fig)\n",
    "\n",
    "# Отображение данных в виде таблицы Excel\n",
    "if st.checkbox('Отобразить данные в виде таблицы Excel'):\n",
    "    st.write(filtered_df)\n",
    "\n"
   ],
   "metadata": {
    "collapsed": false
   }
  },
  {
   "cell_type": "code",
   "execution_count": null,
   "outputs": [],
   "source": [],
   "metadata": {
    "collapsed": false
   }
  }
 ],
 "metadata": {
  "kernelspec": {
   "display_name": "Python 3",
   "language": "python",
   "name": "python3"
  },
  "language_info": {
   "codemirror_mode": {
    "name": "ipython",
    "version": 2
   },
   "file_extension": ".py",
   "mimetype": "text/x-python",
   "name": "python",
   "nbconvert_exporter": "python",
   "pygments_lexer": "ipython2",
   "version": "2.7.6"
  }
 },
 "nbformat": 4,
 "nbformat_minor": 0
}
